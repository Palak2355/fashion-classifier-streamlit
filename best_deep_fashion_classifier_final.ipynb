{
  "nbformat": 4,
  "nbformat_minor": 0,
  "metadata": {
    "colab": {
      "provenance": [],
      "gpuType": "T4"
    },
    "kernelspec": {
      "name": "python3",
      "display_name": "Python 3"
    },
    "language_info": {
      "name": "python"
    },
    "accelerator": "GPU",
    "widgets": {
      "application/vnd.jupyter.widget-state+json": {
        "70e16185030c454aae633708c32f9bc4": {
          "model_module": "@jupyter-widgets/controls",
          "model_name": "VBoxModel",
          "model_module_version": "1.5.0",
          "state": {
            "_dom_classes": [],
            "_model_module": "@jupyter-widgets/controls",
            "_model_module_version": "1.5.0",
            "_model_name": "VBoxModel",
            "_view_count": null,
            "_view_module": "@jupyter-widgets/controls",
            "_view_module_version": "1.5.0",
            "_view_name": "VBoxView",
            "box_style": "",
            "children": [
              "IPY_MODEL_f1a13170604f42d5ae0a43499a661433",
              "IPY_MODEL_d648dd9f92e34a9280c2e93dbdb6e3ca",
              "IPY_MODEL_786a478154f843dbaa1bb4fe7b4dbc81",
              "IPY_MODEL_f9cd57adf8bd42229a41d0e1e657c964"
            ],
            "layout": "IPY_MODEL_88fea672173e4c6c84191c3f74d4deb7"
          }
        },
        "f1a13170604f42d5ae0a43499a661433": {
          "model_module": "@jupyter-widgets/controls",
          "model_name": "HTMLModel",
          "model_module_version": "1.5.0",
          "state": {
            "_dom_classes": [],
            "_model_module": "@jupyter-widgets/controls",
            "_model_module_version": "1.5.0",
            "_model_name": "HTMLModel",
            "_view_count": null,
            "_view_module": "@jupyter-widgets/controls",
            "_view_module_version": "1.5.0",
            "_view_name": "HTMLView",
            "description": "",
            "description_tooltip": null,
            "layout": "IPY_MODEL_4486060c46cc4e02b65ece287cfd80cc",
            "placeholder": "​",
            "style": "IPY_MODEL_13973ff53a004c9298727018c2d03287",
            "value": "<h2>👗 Fashion Classifier GUI (Deployment)</h2>"
          }
        },
        "d648dd9f92e34a9280c2e93dbdb6e3ca": {
          "model_module": "@jupyter-widgets/controls",
          "model_name": "FileUploadModel",
          "model_module_version": "1.5.0",
          "state": {
            "_counter": 7,
            "_dom_classes": [],
            "_model_module": "@jupyter-widgets/controls",
            "_model_module_version": "1.5.0",
            "_model_name": "FileUploadModel",
            "_view_count": null,
            "_view_module": "@jupyter-widgets/controls",
            "_view_module_version": "1.5.0",
            "_view_name": "FileUploadView",
            "accept": "image/*",
            "button_style": "",
            "data": [
              null
            ],
            "description": "Upload a Fashion Item Image",
            "description_tooltip": null,
            "disabled": false,
            "error": "",
            "icon": "upload",
            "layout": "IPY_MODEL_ffd2b772dc1744d182b43e7588558c7b",
            "metadata": [
              {
                "name": "Screenshot 2025-10-29 230907.png",
                "type": "image/png",
                "size": 7331,
                "lastModified": 1761759547574
              }
            ],
            "multiple": false,
            "style": "IPY_MODEL_fa8e3bed10494cc49856dc23f0804f6a"
          }
        },
        "786a478154f843dbaa1bb4fe7b4dbc81": {
          "model_module": "@jupyter-widgets/controls",
          "model_name": "ButtonModel",
          "model_module_version": "1.5.0",
          "state": {
            "_dom_classes": [],
            "_model_module": "@jupyter-widgets/controls",
            "_model_module_version": "1.5.0",
            "_model_name": "ButtonModel",
            "_view_count": null,
            "_view_module": "@jupyter-widgets/controls",
            "_view_module_version": "1.5.0",
            "_view_name": "ButtonView",
            "button_style": "",
            "description": "Classify Item",
            "disabled": false,
            "icon": "",
            "layout": "IPY_MODEL_ae2f85171cb84253a777d71f13971054",
            "style": "IPY_MODEL_9a1c8ccc37ce4fd6bdc570100c74122b",
            "tooltip": ""
          }
        },
        "f9cd57adf8bd42229a41d0e1e657c964": {
          "model_module": "@jupyter-widgets/output",
          "model_name": "OutputModel",
          "model_module_version": "1.0.0",
          "state": {
            "_dom_classes": [],
            "_model_module": "@jupyter-widgets/output",
            "_model_module_version": "1.0.0",
            "_model_name": "OutputModel",
            "_view_count": null,
            "_view_module": "@jupyter-widgets/output",
            "_view_module_version": "1.0.0",
            "_view_name": "OutputView",
            "layout": "IPY_MODEL_0eff0771ec9e4dc093871d45cf70e617",
            "msg_id": "",
            "outputs": [
              {
                "output_type": "stream",
                "name": "stdout",
                "text": [
                  "Uploaded Image: **Screenshot 2025-10-29 230907.png**\n"
                ]
              },
              {
                "output_type": "display_data",
                "data": {
                  "text/plain": "<PIL.Image.Image image mode=RGBA size=150x150>",
                  "image/png": "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\n"
                },
                "metadata": {}
              },
              {
                "output_type": "stream",
                "name": "stdout",
                "text": [
                  "\n",
                  "--- Prediction Result ---\n",
                  "Predicted Class: **T-shirt/top**\n",
                  "Confidence: **82.93%**\n"
                ]
              }
            ]
          }
        },
        "88fea672173e4c6c84191c3f74d4deb7": {
          "model_module": "@jupyter-widgets/base",
          "model_name": "LayoutModel",
          "model_module_version": "1.2.0",
          "state": {
            "_model_module": "@jupyter-widgets/base",
            "_model_module_version": "1.2.0",
            "_model_name": "LayoutModel",
            "_view_count": null,
            "_view_module": "@jupyter-widgets/base",
            "_view_module_version": "1.2.0",
            "_view_name": "LayoutView",
            "align_content": null,
            "align_items": null,
            "align_self": null,
            "border": null,
            "bottom": null,
            "display": null,
            "flex": null,
            "flex_flow": null,
            "grid_area": null,
            "grid_auto_columns": null,
            "grid_auto_flow": null,
            "grid_auto_rows": null,
            "grid_column": null,
            "grid_gap": null,
            "grid_row": null,
            "grid_template_areas": null,
            "grid_template_columns": null,
            "grid_template_rows": null,
            "height": null,
            "justify_content": null,
            "justify_items": null,
            "left": null,
            "margin": null,
            "max_height": null,
            "max_width": null,
            "min_height": null,
            "min_width": null,
            "object_fit": null,
            "object_position": null,
            "order": null,
            "overflow": null,
            "overflow_x": null,
            "overflow_y": null,
            "padding": null,
            "right": null,
            "top": null,
            "visibility": null,
            "width": null
          }
        },
        "4486060c46cc4e02b65ece287cfd80cc": {
          "model_module": "@jupyter-widgets/base",
          "model_name": "LayoutModel",
          "model_module_version": "1.2.0",
          "state": {
            "_model_module": "@jupyter-widgets/base",
            "_model_module_version": "1.2.0",
            "_model_name": "LayoutModel",
            "_view_count": null,
            "_view_module": "@jupyter-widgets/base",
            "_view_module_version": "1.2.0",
            "_view_name": "LayoutView",
            "align_content": null,
            "align_items": null,
            "align_self": null,
            "border": null,
            "bottom": null,
            "display": null,
            "flex": null,
            "flex_flow": null,
            "grid_area": null,
            "grid_auto_columns": null,
            "grid_auto_flow": null,
            "grid_auto_rows": null,
            "grid_column": null,
            "grid_gap": null,
            "grid_row": null,
            "grid_template_areas": null,
            "grid_template_columns": null,
            "grid_template_rows": null,
            "height": null,
            "justify_content": null,
            "justify_items": null,
            "left": null,
            "margin": null,
            "max_height": null,
            "max_width": null,
            "min_height": null,
            "min_width": null,
            "object_fit": null,
            "object_position": null,
            "order": null,
            "overflow": null,
            "overflow_x": null,
            "overflow_y": null,
            "padding": null,
            "right": null,
            "top": null,
            "visibility": null,
            "width": null
          }
        },
        "13973ff53a004c9298727018c2d03287": {
          "model_module": "@jupyter-widgets/controls",
          "model_name": "DescriptionStyleModel",
          "model_module_version": "1.5.0",
          "state": {
            "_model_module": "@jupyter-widgets/controls",
            "_model_module_version": "1.5.0",
            "_model_name": "DescriptionStyleModel",
            "_view_count": null,
            "_view_module": "@jupyter-widgets/base",
            "_view_module_version": "1.2.0",
            "_view_name": "StyleView",
            "description_width": ""
          }
        },
        "ffd2b772dc1744d182b43e7588558c7b": {
          "model_module": "@jupyter-widgets/base",
          "model_name": "LayoutModel",
          "model_module_version": "1.2.0",
          "state": {
            "_model_module": "@jupyter-widgets/base",
            "_model_module_version": "1.2.0",
            "_model_name": "LayoutModel",
            "_view_count": null,
            "_view_module": "@jupyter-widgets/base",
            "_view_module_version": "1.2.0",
            "_view_name": "LayoutView",
            "align_content": null,
            "align_items": null,
            "align_self": null,
            "border": null,
            "bottom": null,
            "display": null,
            "flex": null,
            "flex_flow": null,
            "grid_area": null,
            "grid_auto_columns": null,
            "grid_auto_flow": null,
            "grid_auto_rows": null,
            "grid_column": null,
            "grid_gap": null,
            "grid_row": null,
            "grid_template_areas": null,
            "grid_template_columns": null,
            "grid_template_rows": null,
            "height": null,
            "justify_content": null,
            "justify_items": null,
            "left": null,
            "margin": null,
            "max_height": null,
            "max_width": null,
            "min_height": null,
            "min_width": null,
            "object_fit": null,
            "object_position": null,
            "order": null,
            "overflow": null,
            "overflow_x": null,
            "overflow_y": null,
            "padding": null,
            "right": null,
            "top": null,
            "visibility": null,
            "width": null
          }
        },
        "fa8e3bed10494cc49856dc23f0804f6a": {
          "model_module": "@jupyter-widgets/controls",
          "model_name": "ButtonStyleModel",
          "model_module_version": "1.5.0",
          "state": {
            "_model_module": "@jupyter-widgets/controls",
            "_model_module_version": "1.5.0",
            "_model_name": "ButtonStyleModel",
            "_view_count": null,
            "_view_module": "@jupyter-widgets/base",
            "_view_module_version": "1.2.0",
            "_view_name": "StyleView",
            "button_color": null,
            "font_weight": ""
          }
        },
        "ae2f85171cb84253a777d71f13971054": {
          "model_module": "@jupyter-widgets/base",
          "model_name": "LayoutModel",
          "model_module_version": "1.2.0",
          "state": {
            "_model_module": "@jupyter-widgets/base",
            "_model_module_version": "1.2.0",
            "_model_name": "LayoutModel",
            "_view_count": null,
            "_view_module": "@jupyter-widgets/base",
            "_view_module_version": "1.2.0",
            "_view_name": "LayoutView",
            "align_content": null,
            "align_items": null,
            "align_self": null,
            "border": null,
            "bottom": null,
            "display": null,
            "flex": null,
            "flex_flow": null,
            "grid_area": null,
            "grid_auto_columns": null,
            "grid_auto_flow": null,
            "grid_auto_rows": null,
            "grid_column": null,
            "grid_gap": null,
            "grid_row": null,
            "grid_template_areas": null,
            "grid_template_columns": null,
            "grid_template_rows": null,
            "height": null,
            "justify_content": null,
            "justify_items": null,
            "left": null,
            "margin": null,
            "max_height": null,
            "max_width": null,
            "min_height": null,
            "min_width": null,
            "object_fit": null,
            "object_position": null,
            "order": null,
            "overflow": null,
            "overflow_x": null,
            "overflow_y": null,
            "padding": null,
            "right": null,
            "top": null,
            "visibility": null,
            "width": null
          }
        },
        "9a1c8ccc37ce4fd6bdc570100c74122b": {
          "model_module": "@jupyter-widgets/controls",
          "model_name": "ButtonStyleModel",
          "model_module_version": "1.5.0",
          "state": {
            "_model_module": "@jupyter-widgets/controls",
            "_model_module_version": "1.5.0",
            "_model_name": "ButtonStyleModel",
            "_view_count": null,
            "_view_module": "@jupyter-widgets/base",
            "_view_module_version": "1.2.0",
            "_view_name": "StyleView",
            "button_color": null,
            "font_weight": ""
          }
        },
        "0eff0771ec9e4dc093871d45cf70e617": {
          "model_module": "@jupyter-widgets/base",
          "model_name": "LayoutModel",
          "model_module_version": "1.2.0",
          "state": {
            "_model_module": "@jupyter-widgets/base",
            "_model_module_version": "1.2.0",
            "_model_name": "LayoutModel",
            "_view_count": null,
            "_view_module": "@jupyter-widgets/base",
            "_view_module_version": "1.2.0",
            "_view_name": "LayoutView",
            "align_content": null,
            "align_items": null,
            "align_self": null,
            "border": null,
            "bottom": null,
            "display": null,
            "flex": null,
            "flex_flow": null,
            "grid_area": null,
            "grid_auto_columns": null,
            "grid_auto_flow": null,
            "grid_auto_rows": null,
            "grid_column": null,
            "grid_gap": null,
            "grid_row": null,
            "grid_template_areas": null,
            "grid_template_columns": null,
            "grid_template_rows": null,
            "height": null,
            "justify_content": null,
            "justify_items": null,
            "left": null,
            "margin": null,
            "max_height": null,
            "max_width": null,
            "min_height": null,
            "min_width": null,
            "object_fit": null,
            "object_position": null,
            "order": null,
            "overflow": null,
            "overflow_x": null,
            "overflow_y": null,
            "padding": null,
            "right": null,
            "top": null,
            "visibility": null,
            "width": null
          }
        }
      }
    }
  },
  "cells": [
    {
      "cell_type": "code",
      "source": [
        "\n",
        "import tensorflow as tf\n",
        "from tensorflow.keras.models import Sequential, load_model\n",
        "from tensorflow.keras.layers import Conv2D, MaxPooling2D, Flatten, Dense, Dropout\n",
        "from tensorflow.keras.utils import to_categorical\n",
        "from tensorflow.keras.preprocessing.image import ImageDataGenerator\n",
        "from tensorflow.keras.callbacks import EarlyStopping # NEW: For runtime optimization\n",
        "import numpy as np\n",
        "import matplotlib.pyplot as plt\n",
        "import pandas as pd\n",
        "from sklearn.model_selection import train_test_split\n",
        "from sklearn.linear_model import LogisticRegression\n",
        "from sklearn.metrics import classification_report, accuracy_score\n",
        "import ipywidgets as widgets\n",
        "from IPython.display import display, clear_output\n",
        "from PIL import Image\n",
        "import io\n",
        "\n",
        "# Define the 10 class names for Fashion-MNIST\n",
        "class_names = ['T-shirt/top', 'Trouser', 'Pullover', 'Shirt', 'Dress',\n",
        "               'Coat', 'Sandal', 'Sneaker', 'Bag', 'Ankle boot']\n",
        "\n",
        "print(\"All libraries imported successfully!\")\n",
        "print(\"TensorFlow version:\", tf.__version__)\n",
        "print(\"--- Check Runtime: GPU should be enabled for fast training! ---\")\n",
        "\n",
        "==============================================================================\n",
        "\n",
        "# --- Load Data from CSV ---\n",
        "try:\n",
        "    train_df = pd.read_csv('/content/drive/MyDrive/ml project/fashion-mnist_train.csv')\n",
        "    test_df = pd.read_csv('/content/drive/MyDrive/ml project/fashion-mnist_test.csv')\n",
        "    print(f\"\\nTraining data shape: {train_df.shape}\")\n",
        "    print(f\"Test data shape: {test_df.shape}\")\n",
        "except FileNotFoundError:\n",
        "    print(\"\\n🚨 ERROR: CSV files not found. Please verify the path or upload files to your session.\")\n",
        "    raise\n",
        "\n",
        "# Separate Features (X) and Labels (y)\n",
        "X_train_full_csv = train_df.iloc[:, 1:].values.astype('float32')\n",
        "y_train_full = train_df.iloc[:, 0].values\n",
        "X_test_csv = test_df.iloc[:, 1:].values.astype('float32')\n",
        "y_test = test_df.iloc[:, 0].values\n",
        "\n",
        "# --- Preprocessing ---\n",
        "X_train_full = X_train_full_csv / 255.0\n",
        "X_test = X_test_csv / 255.0\n",
        "\n",
        "# Split Training data into Train and Validation sets\n",
        "X_train, X_valid, y_train, y_valid = train_test_split(\n",
        "    X_train_full, y_train_full, test_size=0.1, random_state=42\n",
        ")\n",
        "\n",
        "# Reshape for EDA visualization\n",
        "X_train_img = X_train.reshape(-1, 28, 28)\n",
        "\n",
        "plt.figure(figsize=(10, 5))\n",
        "for i in range(10):\n",
        "    plt.subplot(2, 5, i + 1)\n",
        "    plt.xticks([])\n",
        "    plt.yticks([])\n",
        "    plt.grid(False)\n",
        "    plt.imshow(X_train_img[i], cmap=plt.cm.binary)\n",
        "    plt.xlabel(class_names[y_train[i]])\n",
        "plt.suptitle(\"Sample Fashion-MNIST Images (Loaded from CSV)\")\n",
        "plt.show()\n",
        "\n",
        "\n",
        "print(\"\\n--- Training Logistic Regression (LR) ---\")\n",
        "# Increased max_iter for higher accuracy stability\n",
        "lr_model = LogisticRegression(solver='saga', max_iter=200, random_state=42, n_jobs=-1, verbose=0)\n",
        "lr_model.fit(X_train, y_train)\n",
        "\n",
        "# Evaluation\n",
        "lr_y_pred = lr_model.predict(X_test)\n",
        "lr_accuracy = accuracy_score(y_test, lr_y_pred)\n",
        "print(f\"✅ Logistic Regression Test Accuracy: {lr_accuracy:.4f}\")\n",
        "print(\"Classification Report:\")\n",
        "print(classification_report(y_test, lr_y_pred, target_names=class_names, zero_division=0))"
      ],
      "metadata": {
        "colab": {
          "base_uri": "https://localhost:8080/",
          "height": 973
        },
        "id": "I5g3cVCj0mvX",
        "outputId": "c7fc52ab-d9b7-404e-97b7-139d1097a69b"
      },
      "execution_count": 4,
      "outputs": [
        {
          "output_type": "stream",
          "name": "stdout",
          "text": [
            "All libraries imported successfully!\n",
            "TensorFlow version: 2.19.0\n",
            "--- Check Runtime: GPU should be enabled for fast training! ---\n",
            "\n",
            "Training data shape: (60000, 785)\n",
            "Test data shape: (10000, 785)\n"
          ]
        },
        {
          "output_type": "display_data",
          "data": {
            "text/plain": [
              "<Figure size 1000x500 with 10 Axes>"
            ],
            "image/png": "[encoded data removed]"
          },
          "metadata": {}
        },
        {
          "output_type": "stream",
          "name": "stdout",
          "text": [
            "\n",
            "--- Training Logistic Regression (LR) ---\n",
            "✅ Logistic Regression Test Accuracy: 0.8524\n",
            "Classification Report:\n",
            "              precision    recall  f1-score   support\n",
            "\n",
            " T-shirt/top       0.79      0.81      0.80      1000\n",
            "     Trouser       0.95      0.97      0.96      1000\n",
            "    Pullover       0.78      0.76      0.77      1000\n",
            "       Shirt       0.86      0.86      0.86      1000\n",
            "       Dress       0.78      0.80      0.79      1000\n",
            "        Coat       0.93      0.91      0.92      1000\n",
            "      Sandal       0.64      0.60      0.62      1000\n",
            "     Sneaker       0.90      0.91      0.91      1000\n",
            "         Bag       0.94      0.94      0.94      1000\n",
            "  Ankle boot       0.93      0.94      0.94      1000\n",
            "\n",
            "    accuracy                           0.85     10000\n",
            "   macro avg       0.85      0.85      0.85     10000\n",
            "weighted avg       0.85      0.85      0.85     10000\n",
            "\n"
          ]
        },
        {
          "output_type": "stream",
          "name": "stderr",
          "text": [
            "/usr/local/lib/python3.12/dist-packages/sklearn/linear_model/_sag.py:348: ConvergenceWarning: The max_iter was reached which means the coef_ did not converge\n",
            "  warnings.warn(\n"
          ]
        }
      ]
    },
    {
      "cell_type": "code",
      "source": [
        "\n",
        "# --- Prepare data for CNN ---\n",
        "# Reshape data from (N, 784) to (N, 28, 28, 1) for CNN input\n",
        "X_train_cnn = X_train.reshape(-1, 28, 28, 1)\n",
        "X_valid_cnn = X_valid.reshape(-1, 28, 28, 1)\n",
        "X_test_cnn = X_test.reshape(-1, 28, 28, 1)\n",
        "\n",
        "# Convert labels to one-hot encoding\n",
        "y_train_cat = to_categorical(y_train, num_classes=10)\n",
        "y_valid_cat = to_categorical(y_valid, num_classes=10)\n",
        "\n",
        "\n",
        "datagen = ImageDataGenerator(\n",
        "    rotation_range=8,\n",
        "    zoom_range=0.08,\n",
        "    width_shift_range=0.08, # Corrected argument\n",
        "    height_shift_range=0.08 # Corrected argument\n",
        ")\n",
        "datagen.fit(X_train_cnn)\n",
        "print(\"\\nData Augmentation Generator configured.\")\n",
        "\n",
        "# Monitors validation loss and stops training if no improvement after 5 epochs\n",
        "early_stopping = tf.keras.callbacks.EarlyStopping(\n",
        "    monitor='val_loss',\n",
        "    patience=5,\n",
        "    restore_best_weights=True\n",
        ")\n",
        "\n",
        "\n",
        "print(\"\\n--- Training DEEPER Convolutional Neural Network (CNN) ---\")\n",
        "\n",
        "deep_cnn_model = Sequential([\n",
        "    # Block 1\n",
        "    Conv2D(32, (3, 3), activation='relu', input_shape=(28, 28, 1)),\n",
        "    MaxPooling2D((2, 2)),\n",
        "\n",
        "    # Block 2\n",
        "    Conv2D(64, (3, 3), activation='relu'),\n",
        "    MaxPooling2D((2, 2)),\n",
        "\n",
        "    # NEW Block 3 (Deeper Architecture - Innovation)\n",
        "    Conv2D(128, (3, 3), activation='relu'),\n",
        "    # Note: No Pooling here as the image is already small.\n",
        "\n",
        "    Flatten(),\n",
        "    Dense(128, activation='relu'),\n",
        "    Dropout(0.5), # Regularization\n",
        "    Dense(10, activation='softmax')\n",
        "])\n",
        "\n",
        "\n",
        "deep_cnn_model.compile(optimizer='adam',\n",
        "                  loss='categorical_crossentropy',\n",
        "                  metrics=['accuracy'])\n",
        "\n",
        "deep_cnn_model.summary()\n",
        "\n",
        "# Train the model with augmented data, Early Stopping, and MAX 20 Epochs\n",
        "print(\"\\nStarting DEEPER CNN Training (Max 20 Epochs, will stop early if performance plateaus)...\")\n",
        "history = deep_cnn_model.fit(\n",
        "    datagen.flow(X_train_cnn, y_train_cat, batch_size=128),\n",
        "    steps_per_epoch=len(X_train_cnn) // 128,\n",
        "    epochs=20, # <--- MAX EPOCHS SET TO 20\n",
        "    validation_data=(X_valid_cnn, y_valid_cat),\n",
        "    callbacks=[early_stopping], # Early Stopping controls effective runtime\n",
        "    verbose=1\n",
        ")\n",
        "\n",
        "# Evaluation\n",
        "cnn_loss, cnn_accuracy = deep_cnn_model.evaluate(X_test_cnn, to_categorical(y_test), verbose=0)\n",
        "print(f\"\\n✅ Final DEEPER CNN Test Accuracy: {cnn_accuracy:.4f}\")\n",
        "\n",
        "# Save the best model\n",
        "model_path = 'best_deep_fashion_classifier_final.h5'\n",
        "deep_cnn_model.save(model_path)\n",
        "print(f\"Best model saved to {model_path}\")"
      ],
      "metadata": {
        "colab": {
          "base_uri": "https://localhost:8080/",
          "height": 1000
        },
        "id": "ElM9rCR_5wZO",
        "outputId": "8cbccb20-9eb7-4345-c5dc-1361d91796eb"
      },
      "execution_count": 6,
      "outputs": [
        {
          "output_type": "stream",
          "name": "stdout",
          "text": [
            "\n",
            "Data Augmentation Generator configured.\n",
            "\n",
            "--- Training DEEPER Convolutional Neural Network (CNN) ---\n"
          ]
        },
        {
          "output_type": "stream",
          "name": "stderr",
          "text": [
            "/usr/local/lib/python3.12/dist-packages/keras/src/layers/convolutional/base_conv.py:113: UserWarning: Do not pass an `input_shape`/`input_dim` argument to a layer. When using Sequential models, prefer using an `Input(shape)` object as the first layer in the model instead.\n",
            "  super().__init__(activity_regularizer=activity_regularizer, **kwargs)\n"
          ]
        },
        {
          "output_type": "display_data",
          "data": {
            "text/plain": [
              "\u001b[1mModel: \"sequential_1\"\u001b[0m\n"
            ],
            "text/html": [
              "<pre style=\"white-space:pre;overflow-x:auto;line-height:normal;font-family:Menlo,'DejaVu Sans Mono',consolas,'Courier New',monospace\"><span style=\"font-weight: bold\">Model: \"sequential_1\"</span>\n",
              "</pre>\n"
            ]
          },
          "metadata": {}
        },
        {
          "output_type": "display_data",
          "data": {
            "text/plain": [
              "┏━━━━━━━━━━━━━━━━━━━━━━━━━━━━━━━━━┳━━━━━━━━━━━━━━━━━━━━━━━━┳━━━━━━━━━━━━━━━┓\n",
              "┃\u001b[1m \u001b[0m\u001b[1mLayer (type)                   \u001b[0m\u001b[1m \u001b[0m┃\u001b[1m \u001b[0m\u001b[1mOutput Shape          \u001b[0m\u001b[1m \u001b[0m┃\u001b[1m \u001b[0m\u001b[1m      Param #\u001b[0m\u001b[1m \u001b[0m┃\n",
              "┡━━━━━━━━━━━━━━━━━━━━━━━━━━━━━━━━━╇━━━━━━━━━━━━━━━━━━━━━━━━╇━━━━━━━━━━━━━━━┩\n",
              "│ conv2d_2 (\u001b[38;5;33mConv2D\u001b[0m)               │ (\u001b[38;5;45mNone\u001b[0m, \u001b[38;5;34m26\u001b[0m, \u001b[38;5;34m26\u001b[0m, \u001b[38;5;34m32\u001b[0m)     │           \u001b[38;5;34m320\u001b[0m │\n",
              "├─────────────────────────────────┼────────────────────────┼───────────────┤\n",
              "│ max_pooling2d_2 (\u001b[38;5;33mMaxPooling2D\u001b[0m)  │ (\u001b[38;5;45mNone\u001b[0m, \u001b[38;5;34m13\u001b[0m, \u001b[38;5;34m13\u001b[0m, \u001b[38;5;34m32\u001b[0m)     │             \u001b[38;5;34m0\u001b[0m │\n",
              "├─────────────────────────────────┼────────────────────────┼───────────────┤\n",
              "│ conv2d_3 (\u001b[38;5;33mConv2D\u001b[0m)               │ (\u001b[38;5;45mNone\u001b[0m, \u001b[38;5;34m11\u001b[0m, \u001b[38;5;34m11\u001b[0m, \u001b[38;5;34m64\u001b[0m)     │        \u001b[38;5;34m18,496\u001b[0m │\n",
              "├─────────────────────────────────┼────────────────────────┼───────────────┤\n",
              "│ max_pooling2d_3 (\u001b[38;5;33mMaxPooling2D\u001b[0m)  │ (\u001b[38;5;45mNone\u001b[0m, \u001b[38;5;34m5\u001b[0m, \u001b[38;5;34m5\u001b[0m, \u001b[38;5;34m64\u001b[0m)       │             \u001b[38;5;34m0\u001b[0m │\n",
              "├─────────────────────────────────┼────────────────────────┼───────────────┤\n",
              "│ conv2d_4 (\u001b[38;5;33mConv2D\u001b[0m)               │ (\u001b[38;5;45mNone\u001b[0m, \u001b[38;5;34m3\u001b[0m, \u001b[38;5;34m3\u001b[0m, \u001b[38;5;34m128\u001b[0m)      │        \u001b[38;5;34m73,856\u001b[0m │\n",
              "├─────────────────────────────────┼────────────────────────┼───────────────┤\n",
              "│ flatten_1 (\u001b[38;5;33mFlatten\u001b[0m)             │ (\u001b[38;5;45mNone\u001b[0m, \u001b[38;5;34m1152\u001b[0m)           │             \u001b[38;5;34m0\u001b[0m │\n",
              "├─────────────────────────────────┼────────────────────────┼───────────────┤\n",
              "│ dense_2 (\u001b[38;5;33mDense\u001b[0m)                 │ (\u001b[38;5;45mNone\u001b[0m, \u001b[38;5;34m128\u001b[0m)            │       \u001b[38;5;34m147,584\u001b[0m │\n",
              "├─────────────────────────────────┼────────────────────────┼───────────────┤\n",
              "│ dropout_1 (\u001b[38;5;33mDropout\u001b[0m)             │ (\u001b[38;5;45mNone\u001b[0m, \u001b[38;5;34m128\u001b[0m)            │             \u001b[38;5;34m0\u001b[0m │\n",
              "├─────────────────────────────────┼────────────────────────┼───────────────┤\n",
              "│ dense_3 (\u001b[38;5;33mDense\u001b[0m)                 │ (\u001b[38;5;45mNone\u001b[0m, \u001b[38;5;34m10\u001b[0m)             │         \u001b[38;5;34m1,290\u001b[0m │\n",
              "└─────────────────────────────────┴────────────────────────┴───────────────┘\n"
            ],
            "text/html": [
              "<pre style=\"white-space:pre;overflow-x:auto;line-height:normal;font-family:Menlo,'DejaVu Sans Mono',consolas,'Courier New',monospace\">┏━━━━━━━━━━━━━━━━━━━━━━━━━━━━━━━━━┳━━━━━━━━━━━━━━━━━━━━━━━━┳━━━━━━━━━━━━━━━┓\n",
              "┃<span style=\"font-weight: bold\"> Layer (type)                    </span>┃<span style=\"font-weight: bold\"> Output Shape           </span>┃<span style=\"font-weight: bold\">       Param # </span>┃\n",
              "┡━━━━━━━━━━━━━━━━━━━━━━━━━━━━━━━━━╇━━━━━━━━━━━━━━━━━━━━━━━━╇━━━━━━━━━━━━━━━┩\n",
              "│ conv2d_2 (<span style=\"color: #0087ff; text-decoration-color: #0087ff\">Conv2D</span>)               │ (<span style=\"color: #00d7ff; text-decoration-color: #00d7ff\">None</span>, <span style=\"color: #00af00; text-decoration-color: #00af00\">26</span>, <span style=\"color: #00af00; text-decoration-color: #00af00\">26</span>, <span style=\"color: #00af00; text-decoration-color: #00af00\">32</span>)     │           <span style=\"color: #00af00; text-decoration-color: #00af00\">320</span> │\n",
              "├─────────────────────────────────┼────────────────────────┼───────────────┤\n",
              "│ max_pooling2d_2 (<span style=\"color: #0087ff; text-decoration-color: #0087ff\">MaxPooling2D</span>)  │ (<span style=\"color: #00d7ff; text-decoration-color: #00d7ff\">None</span>, <span style=\"color: #00af00; text-decoration-color: #00af00\">13</span>, <span style=\"color: #00af00; text-decoration-color: #00af00\">13</span>, <span style=\"color: #00af00; text-decoration-color: #00af00\">32</span>)     │             <span style=\"color: #00af00; text-decoration-color: #00af00\">0</span> │\n",
              "├─────────────────────────────────┼────────────────────────┼───────────────┤\n",
              "│ conv2d_3 (<span style=\"color: #0087ff; text-decoration-color: #0087ff\">Conv2D</span>)               │ (<span style=\"color: #00d7ff; text-decoration-color: #00d7ff\">None</span>, <span style=\"color: #00af00; text-decoration-color: #00af00\">11</span>, <span style=\"color: #00af00; text-decoration-color: #00af00\">11</span>, <span style=\"color: #00af00; text-decoration-color: #00af00\">64</span>)     │        <span style=\"color: #00af00; text-decoration-color: #00af00\">18,496</span> │\n",
              "├─────────────────────────────────┼────────────────────────┼───────────────┤\n",
              "│ max_pooling2d_3 (<span style=\"color: #0087ff; text-decoration-color: #0087ff\">MaxPooling2D</span>)  │ (<span style=\"color: #00d7ff; text-decoration-color: #00d7ff\">None</span>, <span style=\"color: #00af00; text-decoration-color: #00af00\">5</span>, <span style=\"color: #00af00; text-decoration-color: #00af00\">5</span>, <span style=\"color: #00af00; text-decoration-color: #00af00\">64</span>)       │             <span style=\"color: #00af00; text-decoration-color: #00af00\">0</span> │\n",
              "├─────────────────────────────────┼────────────────────────┼───────────────┤\n",
              "│ conv2d_4 (<span style=\"color: #0087ff; text-decoration-color: #0087ff\">Conv2D</span>)               │ (<span style=\"color: #00d7ff; text-decoration-color: #00d7ff\">None</span>, <span style=\"color: #00af00; text-decoration-color: #00af00\">3</span>, <span style=\"color: #00af00; text-decoration-color: #00af00\">3</span>, <span style=\"color: #00af00; text-decoration-color: #00af00\">128</span>)      │        <span style=\"color: #00af00; text-decoration-color: #00af00\">73,856</span> │\n",
              "├─────────────────────────────────┼────────────────────────┼───────────────┤\n",
              "│ flatten_1 (<span style=\"color: #0087ff; text-decoration-color: #0087ff\">Flatten</span>)             │ (<span style=\"color: #00d7ff; text-decoration-color: #00d7ff\">None</span>, <span style=\"color: #00af00; text-decoration-color: #00af00\">1152</span>)           │             <span style=\"color: #00af00; text-decoration-color: #00af00\">0</span> │\n",
              "├─────────────────────────────────┼────────────────────────┼───────────────┤\n",
              "│ dense_2 (<span style=\"color: #0087ff; text-decoration-color: #0087ff\">Dense</span>)                 │ (<span style=\"color: #00d7ff; text-decoration-color: #00d7ff\">None</span>, <span style=\"color: #00af00; text-decoration-color: #00af00\">128</span>)            │       <span style=\"color: #00af00; text-decoration-color: #00af00\">147,584</span> │\n",
              "├─────────────────────────────────┼────────────────────────┼───────────────┤\n",
              "│ dropout_1 (<span style=\"color: #0087ff; text-decoration-color: #0087ff\">Dropout</span>)             │ (<span style=\"color: #00d7ff; text-decoration-color: #00d7ff\">None</span>, <span style=\"color: #00af00; text-decoration-color: #00af00\">128</span>)            │             <span style=\"color: #00af00; text-decoration-color: #00af00\">0</span> │\n",
              "├─────────────────────────────────┼────────────────────────┼───────────────┤\n",
              "│ dense_3 (<span style=\"color: #0087ff; text-decoration-color: #0087ff\">Dense</span>)                 │ (<span style=\"color: #00d7ff; text-decoration-color: #00d7ff\">None</span>, <span style=\"color: #00af00; text-decoration-color: #00af00\">10</span>)             │         <span style=\"color: #00af00; text-decoration-color: #00af00\">1,290</span> │\n",
              "└─────────────────────────────────┴────────────────────────┴───────────────┘\n",
              "</pre>\n"
            ]
          },
          "metadata": {}
        },
        {
          "output_type": "display_data",
          "data": {
            "text/plain": [
              "\u001b[1m Total params: \u001b[0m\u001b[38;5;34m241,546\u001b[0m (943.54 KB)\n"
            ],
            "text/html": [
              "<pre style=\"white-space:pre;overflow-x:auto;line-height:normal;font-family:Menlo,'DejaVu Sans Mono',consolas,'Courier New',monospace\"><span style=\"font-weight: bold\"> Total params: </span><span style=\"color: #00af00; text-decoration-color: #00af00\">241,546</span> (943.54 KB)\n",
              "</pre>\n"
            ]
          },
          "metadata": {}
        },
        {
          "output_type": "display_data",
          "data": {
            "text/plain": [
              "\u001b[1m Trainable params: \u001b[0m\u001b[38;5;34m241,546\u001b[0m (943.54 KB)\n"
            ],
            "text/html": [
              "<pre style=\"white-space:pre;overflow-x:auto;line-height:normal;font-family:Menlo,'DejaVu Sans Mono',consolas,'Courier New',monospace\"><span style=\"font-weight: bold\"> Trainable params: </span><span style=\"color: #00af00; text-decoration-color: #00af00\">241,546</span> (943.54 KB)\n",
              "</pre>\n"
            ]
          },
          "metadata": {}
        },
        {
          "output_type": "display_data",
          "data": {
            "text/plain": [
              "\u001b[1m Non-trainable params: \u001b[0m\u001b[38;5;34m0\u001b[0m (0.00 B)\n"
            ],
            "text/html": [
              "<pre style=\"white-space:pre;overflow-x:auto;line-height:normal;font-family:Menlo,'DejaVu Sans Mono',consolas,'Courier New',monospace\"><span style=\"font-weight: bold\"> Non-trainable params: </span><span style=\"color: #00af00; text-decoration-color: #00af00\">0</span> (0.00 B)\n",
              "</pre>\n"
            ]
          },
          "metadata": {}
        },
        {
          "output_type": "stream",
          "name": "stdout",
          "text": [
            "\n",
            "Starting DEEPER CNN Training (Max 20 Epochs, will stop early if performance plateaus)...\n",
            "Epoch 1/20\n"
          ]
        },
        {
          "output_type": "stream",
          "name": "stderr",
          "text": [
            "/usr/local/lib/python3.12/dist-packages/keras/src/trainers/data_adapters/py_dataset_adapter.py:121: UserWarning: Your `PyDataset` class should call `super().__init__(**kwargs)` in its constructor. `**kwargs` can include `workers`, `use_multiprocessing`, `max_queue_size`. Do not pass these arguments to `fit()`, as they will be ignored.\n",
            "  self._warn_if_super_not_called()\n"
          ]
        },
        {
          "output_type": "stream",
          "name": "stdout",
          "text": [
            "\u001b[1m421/421\u001b[0m \u001b[32m━━━━━━━━━━━━━━━━━━━━\u001b[0m\u001b[37m\u001b[0m \u001b[1m25s\u001b[0m 52ms/step - accuracy: 0.5894 - loss: 1.1222 - val_accuracy: 0.7832 - val_loss: 0.5409\n",
            "Epoch 2/20\n",
            "\u001b[1m  1/421\u001b[0m \u001b[37m━━━━━━━━━━━━━━━━━━━━\u001b[0m \u001b[1m3s\u001b[0m 7ms/step - accuracy: 0.7656 - loss: 0.6957"
          ]
        },
        {
          "output_type": "stream",
          "name": "stderr",
          "text": [
            "/usr/local/lib/python3.12/dist-packages/keras/src/trainers/epoch_iterator.py:116: UserWarning: Your input ran out of data; interrupting training. Make sure that your dataset or generator can generate at least `steps_per_epoch * epochs` batches. You may need to use the `.repeat()` function when building your dataset.\n",
            "  self._interrupted_warning()\n"
          ]
        },
        {
          "output_type": "stream",
          "name": "stdout",
          "text": [
            "\b\b\b\b\b\b\b\b\b\b\b\b\b\b\b\b\b\b\b\b\b\b\b\b\b\b\b\b\b\b\b\b\b\b\b\b\b\b\b\b\b\b\b\b\b\b\b\b\b\b\b\b\b\b\b\b\b\b\b\b\b\b\b\b\b\b\b\b\b\b\b\b\b\b\r\u001b[1m421/421\u001b[0m \u001b[32m━━━━━━━━━━━━━━━━━━━━\u001b[0m\u001b[37m\u001b[0m \u001b[1m0s\u001b[0m 1ms/step - accuracy: 0.7656 - loss: 0.6957 - val_accuracy: 0.7838 - val_loss: 0.5510\n",
            "Epoch 3/20\n",
            "\u001b[1m421/421\u001b[0m \u001b[32m━━━━━━━━━━━━━━━━━━━━\u001b[0m\u001b[37m\u001b[0m \u001b[1m17s\u001b[0m 39ms/step - accuracy: 0.7694 - loss: 0.6138 - val_accuracy: 0.8303 - val_loss: 0.4266\n",
            "Epoch 4/20\n",
            "\u001b[1m421/421\u001b[0m \u001b[32m━━━━━━━━━━━━━━━━━━━━\u001b[0m\u001b[37m\u001b[0m \u001b[1m0s\u001b[0m 990us/step - accuracy: 0.7500 - loss: 0.6204 - val_accuracy: 0.8337 - val_loss: 0.4275\n",
            "Epoch 5/20\n",
            "\u001b[1m421/421\u001b[0m \u001b[32m━━━━━━━━━━━━━━━━━━━━\u001b[0m\u001b[37m\u001b[0m \u001b[1m17s\u001b[0m 40ms/step - accuracy: 0.7985 - loss: 0.5291 - val_accuracy: 0.8555 - val_loss: 0.3799\n",
            "Epoch 6/20\n",
            "\u001b[1m421/421\u001b[0m \u001b[32m━━━━━━━━━━━━━━━━━━━━\u001b[0m\u001b[37m\u001b[0m \u001b[1m1s\u001b[0m 1ms/step - accuracy: 0.8672 - loss: 0.4397 - val_accuracy: 0.8577 - val_loss: 0.3789\n",
            "Epoch 7/20\n",
            "\u001b[1m421/421\u001b[0m \u001b[32m━━━━━━━━━━━━━━━━━━━━\u001b[0m\u001b[37m\u001b[0m \u001b[1m16s\u001b[0m 39ms/step - accuracy: 0.8241 - loss: 0.4725 - val_accuracy: 0.8493 - val_loss: 0.3799\n",
            "Epoch 8/20\n",
            "\u001b[1m421/421\u001b[0m \u001b[32m━━━━━━━━━━━━━━━━━━━━\u001b[0m\u001b[37m\u001b[0m \u001b[1m0s\u001b[0m 990us/step - accuracy: 0.8359 - loss: 0.4106 - val_accuracy: 0.8493 - val_loss: 0.3816\n",
            "Epoch 9/20\n",
            "\u001b[1m421/421\u001b[0m \u001b[32m━━━━━━━━━━━━━━━━━━━━\u001b[0m\u001b[37m\u001b[0m \u001b[1m16s\u001b[0m 38ms/step - accuracy: 0.8335 - loss: 0.4456 - val_accuracy: 0.8615 - val_loss: 0.3579\n",
            "Epoch 10/20\n",
            "\u001b[1m421/421\u001b[0m \u001b[32m━━━━━━━━━━━━━━━━━━━━\u001b[0m\u001b[37m\u001b[0m \u001b[1m0s\u001b[0m 1ms/step - accuracy: 0.8203 - loss: 0.4317 - val_accuracy: 0.8692 - val_loss: 0.3411\n",
            "Epoch 11/20\n",
            "\u001b[1m421/421\u001b[0m \u001b[32m━━━━━━━━━━━━━━━━━━━━\u001b[0m\u001b[37m\u001b[0m \u001b[1m16s\u001b[0m 39ms/step - accuracy: 0.8482 - loss: 0.4146 - val_accuracy: 0.8797 - val_loss: 0.3260\n",
            "Epoch 12/20\n",
            "\u001b[1m421/421\u001b[0m \u001b[32m━━━━━━━━━━━━━━━━━━━━\u001b[0m\u001b[37m\u001b[0m \u001b[1m0s\u001b[0m 1ms/step - accuracy: 0.8906 - loss: 0.4084 - val_accuracy: 0.8783 - val_loss: 0.3256\n",
            "Epoch 13/20\n",
            "\u001b[1m421/421\u001b[0m \u001b[32m━━━━━━━━━━━━━━━━━━━━\u001b[0m\u001b[37m\u001b[0m \u001b[1m17s\u001b[0m 41ms/step - accuracy: 0.8587 - loss: 0.3898 - val_accuracy: 0.8873 - val_loss: 0.2971\n",
            "Epoch 14/20\n",
            "\u001b[1m421/421\u001b[0m \u001b[32m━━━━━━━━━━━━━━━━━━━━\u001b[0m\u001b[37m\u001b[0m \u001b[1m0s\u001b[0m 1ms/step - accuracy: 0.8750 - loss: 0.3923 - val_accuracy: 0.8852 - val_loss: 0.2987\n",
            "Epoch 15/20\n",
            "\u001b[1m421/421\u001b[0m \u001b[32m━━━━━━━━━━━━━━━━━━━━\u001b[0m\u001b[37m\u001b[0m \u001b[1m16s\u001b[0m 38ms/step - accuracy: 0.8596 - loss: 0.3799 - val_accuracy: 0.8920 - val_loss: 0.2913\n",
            "Epoch 16/20\n",
            "\u001b[1m421/421\u001b[0m \u001b[32m━━━━━━━━━━━━━━━━━━━━\u001b[0m\u001b[37m\u001b[0m \u001b[1m0s\u001b[0m 1ms/step - accuracy: 0.8359 - loss: 0.3884 - val_accuracy: 0.8928 - val_loss: 0.2878\n",
            "Epoch 17/20\n",
            "\u001b[1m421/421\u001b[0m \u001b[32m━━━━━━━━━━━━━━━━━━━━\u001b[0m\u001b[37m\u001b[0m \u001b[1m16s\u001b[0m 39ms/step - accuracy: 0.8651 - loss: 0.3685 - val_accuracy: 0.8982 - val_loss: 0.2769\n",
            "Epoch 18/20\n",
            "\u001b[1m421/421\u001b[0m \u001b[32m━━━━━━━━━━━━━━━━━━━━\u001b[0m\u001b[37m\u001b[0m \u001b[1m0s\u001b[0m 974us/step - accuracy: 0.9062 - loss: 0.2900 - val_accuracy: 0.8947 - val_loss: 0.2806\n",
            "Epoch 19/20\n",
            "\u001b[1m421/421\u001b[0m \u001b[32m━━━━━━━━━━━━━━━━━━━━\u001b[0m\u001b[37m\u001b[0m \u001b[1m17s\u001b[0m 40ms/step - accuracy: 0.8714 - loss: 0.3478 - val_accuracy: 0.9013 - val_loss: 0.2634\n",
            "Epoch 20/20\n",
            "\u001b[1m421/421\u001b[0m \u001b[32m━━━━━━━━━━━━━━━━━━━━\u001b[0m\u001b[37m\u001b[0m \u001b[1m1s\u001b[0m 1ms/step - accuracy: 0.8359 - loss: 0.3543 - val_accuracy: 0.9018 - val_loss: 0.2650\n"
          ]
        },
        {
          "output_type": "stream",
          "name": "stderr",
          "text": [
            "WARNING:absl:You are saving your model as an HDF5 file via `model.save()` or `keras.saving.save_model(model)`. This file format is considered legacy. We recommend using instead the native Keras format, e.g. `model.save('my_model.keras')` or `keras.saving.save_model(model, 'my_model.keras')`. \n"
          ]
        },
        {
          "output_type": "stream",
          "name": "stdout",
          "text": [
            "\n",
            "✅ Final DEEPER CNN Test Accuracy: 0.9013\n",
            "Best model saved to best_deep_fashion_classifier_final.h5\n"
          ]
        }
      ]
    },
    {
      "cell_type": "code",
      "source": [
        "\n",
        "# Use the new model accuracy\n",
        "deep_cnn_accuracy = cnn_accuracy\n",
        "\n",
        "# Create a DataFrame for comparison\n",
        "results = pd.DataFrame({\n",
        "    'Model': ['Logistic Regression', 'Deep CNN (Optimized)'],\n",
        "    'Test Accuracy': [lr_accuracy, deep_cnn_accuracy],\n",
        "    'Notes': ['Linear Baseline', 'Deeper Architecture (Expected 92%+, Robust to custom images)']\n",
        "})\n",
        "\n",
        "print(\"\\n--- Model Comparative Analysis ---\")\n",
        "print(results.sort_values(by='Test Accuracy', ascending=False).to_markdown(index=False))"
      ],
      "metadata": {
        "colab": {
          "base_uri": "https://localhost:8080/"
        },
        "id": "vL2cG5uY7dmY",
        "outputId": "42b90294-56b6-4bb0-fbb4-ebc95125ddb9"
      },
      "execution_count": 7,
      "outputs": [
        {
          "output_type": "stream",
          "name": "stdout",
          "text": [
            "\n",
            "--- Model Comparative Analysis ---\n",
            "| Model                |   Test Accuracy | Notes                                                        |\n",
            "|:---------------------|----------------:|:-------------------------------------------------------------|\n",
            "| Deep CNN (Optimized) |          0.9013 | Deeper Architecture (Expected 92%+, Robust to custom images) |\n",
            "| Logistic Regression  |          0.8524 | Linear Baseline                                              |\n"
          ]
        }
      ]
    },
    {
      "cell_type": "code",
      "source": [
        "\n",
        "# Load the saved best model for deployment\n",
        "model_path = 'best_deep_fashion_classifier_final.h5'\n",
        "try:\n",
        "    best_model = load_model(model_path)\n",
        "    print(f\"\\nLoaded new best model: {model_path}\")\n",
        "except Exception as e:\n",
        "    print(f\"\\nFailed to load model for GUI. Ensure training completed successfully. Error: {e}\")\n",
        "    best_model = deep_cnn_model\n",
        "\n",
        "# 5.1 Define the prediction function (No change needed here)\n",
        "def predict_image(image_data):\n",
        "    # Open, convert to grayscale, and resize to 28x28\n",
        "    img = Image.open(io.BytesIO(image_data)).convert('L')\n",
        "    img = img.resize((28, 28))\n",
        "\n",
        "    # Convert to array, normalize, and reshape (1, 28, 28, 1)\n",
        "    img_array = np.array(img, dtype=np.float32) / 255.0\n",
        "    img_array = img_array.reshape(1, 28, 28, 1)\n",
        "\n",
        "    # Predict\n",
        "    predictions = best_model.predict(img_array, verbose=0)\n",
        "    predicted_class_index = np.argmax(predictions[0])\n",
        "    confidence = predictions[0][predicted_class_index] * 100\n",
        "\n",
        "    return class_names[predicted_class_index], confidence\n",
        "\n",
        "\n",
        "file_upload = widgets.FileUpload(\n",
        "    accept='image/*',\n",
        "    multiple=False,\n",
        "    description='Upload a Fashion Item Image'\n",
        ")\n",
        "\n",
        "output_area = widgets.Output()\n",
        "button = widgets.Button(description=\"Classify Item\")\n",
        "\n",
        "\n",
        "def on_classify_button_clicked(b):\n",
        "    with output_area:\n",
        "        clear_output(wait=True)\n",
        "        if not file_upload.value:\n",
        "            print(\" Please upload an image file first.\")\n",
        "            return\n",
        "\n",
        "        # Extract file data\n",
        "        uploaded_file_name = next(iter(file_upload.value))\n",
        "        image_data = file_upload.value[uploaded_file_name]['content']\n",
        "\n",
        "        try:\n",
        "            # Display uploaded image\n",
        "            img = Image.open(io.BytesIO(image_data))\n",
        "            print(f\"Uploaded Image: **{uploaded_file_name}**\")\n",
        "            display(img.resize((150, 150)))\n",
        "\n",
        "            # Predict\n",
        "            predicted_label, confidence = predict_image(image_data)\n",
        "\n",
        "            # Display results\n",
        "            print(\"\\n--- Prediction Result ---\")\n",
        "            print(f\"Predicted Class: **{predicted_label}**\")\n",
        "            print(f\"Confidence: **{confidence:.2f}%**\")\n",
        "\n",
        "            # Contextual feedback\n",
        "            if confidence < 75.0:\n",
        "                 print(\"\\n Note: Confidence is low. The model may be struggling with the complex color/background of this image versus the simple training images.\")\n",
        "\n",
        "        except Exception as e:\n",
        "            print(f\" An error occurred during classification. Error: {e}\")\n",
        "\n",
        "# 5.4 Link the button to the function\n",
        "button.on_click(on_classify_button_clicked)\n",
        "\n",
        "# 5.5 Display the GUI layout\n",
        "gui_title = widgets.HTML(\"<h2> Fashion Classifier GUI (Deployment)</h2>\")\n",
        "gui_vbox = widgets.VBox([gui_title, file_upload, button, output_area])\n",
        "\n",
        "print(\"\\n--- Interact with the GUI below to test the final model ---\")\n",
        "display(gui_vbox)"
      ],
      "metadata": {
        "colab": {
          "base_uri": "https://localhost:8080/",
          "height": 457,
          "referenced_widgets": [
            "70e16185030c454aae633708c32f9bc4",
            "f1a13170604f42d5ae0a43499a661433",
            "d648dd9f92e34a9280c2e93dbdb6e3ca",
            "786a478154f843dbaa1bb4fe7b4dbc81",
            "f9cd57adf8bd42229a41d0e1e657c964",
            "88fea672173e4c6c84191c3f74d4deb7",
            "4486060c46cc4e02b65ece287cfd80cc",
            "13973ff53a004c9298727018c2d03287",
            "ffd2b772dc1744d182b43e7588558c7b",
            "fa8e3bed10494cc49856dc23f0804f6a",
            "ae2f85171cb84253a777d71f13971054",
            "9a1c8ccc37ce4fd6bdc570100c74122b",
            "0eff0771ec9e4dc093871d45cf70e617"
          ]
        },
        "id": "W2aL6W318TyO",
        "outputId": "2ca21d9d-2a41-4772-f396-824fd1f38ea6"
      },
      "execution_count": 26,
      "outputs": [
        {
          "output_type": "stream",
          "name": "stderr",
          "text": [
            "WARNING:absl:Compiled the loaded model, but the compiled metrics have yet to be built. `model.compile_metrics` will be empty until you train or evaluate the model.\n"
          ]
        },
        {
          "output_type": "stream",
          "name": "stdout",
          "text": [
            "\n",
            "Loaded new best model: best_deep_fashion_classifier_final.h5\n",
            "\n",
            "--- Interact with the GUI below to test the final model ---\n"
          ]
        },
        {
          "output_type": "display_data",
          "data": {
            "text/plain": [
              "VBox(children=(HTML(value='<h2>👗 Fashion Classifier GUI (Deployment)</h2>'), FileUpload(value={}, accept='imag…"
            ],
            "application/vnd.jupyter.widget-view+json": {
              "version_major": 2,
              "version_minor": 0,
              "model_id": "70e16185030c454aae633708c32f9bc4"
            }
          },
          "metadata": {}
        }
      ]
    },
    {
      "cell_type": "code",
      "source": [],
      "metadata": {
        "id": "WpMfonoGAPft"
      },
      "execution_count": null,
      "outputs": []
    }
  ]
}